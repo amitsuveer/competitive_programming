{
 "cells": [
  {
   "cell_type": "markdown",
   "metadata": {},
   "source": [
    "<img src=quadrant_selection.png>"
   ]
  },
  {
   "cell_type": "code",
   "execution_count": 13,
   "metadata": {},
   "outputs": [],
   "source": [
    "def get_quadrant(x:int, y:int) -> int:\n",
    "    if x>0:\n",
    "        return 1 if (y>0) else 4\n",
    "    else:\n",
    "        return 2 if (y>0) else 3   "
   ]
  },
  {
   "cell_type": "code",
   "execution_count": 14,
   "metadata": {},
   "outputs": [
    {
     "name": "stdout",
     "output_type": "stream",
     "text": [
      "1 [12, 5] 1\n",
      "2 [-12, 5] 2\n",
      "3 [-12, -5] 3\n",
      "4 [12, -5] 4\n"
     ]
    }
   ],
   "source": [
    "dict_pts = {'1':[12,5], '2':[-12,5], '3':[-12,-5], '4':[12,-5]}\n",
    "\n",
    "for key, val in dict_pts.items():\n",
    "    quad = get_quadrant(x=val[0], y=val[1])\n",
    "    print(key, val, quad)\n",
    "    assert(int(key) == quad)"
   ]
  },
  {
   "cell_type": "markdown",
   "metadata": {},
   "source": [
    "# Accepted solution on Kattis!"
   ]
  },
  {
   "cell_type": "code",
   "execution_count": 20,
   "metadata": {},
   "outputs": [
    {
     "name": "stdout",
     "output_type": "stream",
     "text": [
      "1\n"
     ]
    }
   ],
   "source": [
    "import sys\n",
    "\n",
    "def quadrant(x:int, y:int):\n",
    "    if x>0:\n",
    "        return 1 if (y>0) else 4\n",
    "    else:\n",
    "        return 2 if (y>0) else 3\n",
    "\n",
    "if __name__ == '__main__':\n",
    "    cords = sys.stdin.readlines()\n",
    "    x = int(cords[0])\n",
    "    y = int(cords[1])\n",
    "    print(quadrant(x=x, y=y))"
   ]
  },
  {
   "cell_type": "code",
   "execution_count": null,
   "metadata": {},
   "outputs": [],
   "source": []
  },
  {
   "cell_type": "code",
   "execution_count": null,
   "metadata": {},
   "outputs": [],
   "source": []
  }
 ],
 "metadata": {
  "kernelspec": {
   "display_name": "Python 3",
   "language": "python",
   "name": "python3"
  },
  "language_info": {
   "codemirror_mode": {
    "name": "ipython",
    "version": 3
   },
   "file_extension": ".py",
   "mimetype": "text/x-python",
   "name": "python",
   "nbconvert_exporter": "python",
   "pygments_lexer": "ipython3",
   "version": "3.7.4"
  }
 },
 "nbformat": 4,
 "nbformat_minor": 4
}
