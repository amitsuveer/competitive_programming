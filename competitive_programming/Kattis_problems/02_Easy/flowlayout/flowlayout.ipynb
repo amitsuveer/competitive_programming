{
 "cells": [
  {
   "cell_type": "markdown",
   "metadata": {},
   "source": [
    "<img src=flowlayout.png>"
   ]
  },
  {
   "cell_type": "markdown",
   "metadata": {},
   "source": [
    "# submitted code"
   ]
  },
  {
   "cell_type": "code",
   "execution_count": null,
   "metadata": {},
   "outputs": [],
   "source": [
    "import sys\n",
    "\n",
    "if __name__ == '__main__':\n",
    "    \n",
    "    \n",
    "    width_th = int(sys.stdin.readline().strip())\n",
    "\n",
    "    while width_th !=0:\n",
    "\n",
    "        w_final, h_final = 0, 0\n",
    "\n",
    "        w, h = (sys.stdin.readline().strip()).split()\n",
    "        w, h = int(w), int(h)\n",
    "\n",
    "        w_prev, h_prev = 0, 0\n",
    "        heights = []\n",
    "        while (w>0) and (h>0):\n",
    "\n",
    "            if(w_prev+w) <= width_th:\n",
    "                w_prev += w\n",
    "                heights.append(h)\n",
    "            else:\n",
    "                # get the height from the previous arrangement\n",
    "                h_prev += max(heights)\n",
    "\n",
    "                if(w_final < w_prev):\n",
    "                    w_final = w_prev\n",
    "\n",
    "                # initialize w_prev with current w\n",
    "                w_prev = w\n",
    "\n",
    "                heights = []\n",
    "                heights.append(h)\n",
    "\n",
    "\n",
    "            # read next-line\n",
    "            w, h = (sys.stdin.readline().strip()).split()\n",
    "            w, h = int(w), int(h)\n",
    "\n",
    "\n",
    "        # End of containers (w=-1, h=-1)\n",
    "        if(w_final < w_prev):\n",
    "            w_final = w_prev\n",
    "        h_final = h_prev + max(heights)\n",
    "        print(f'{w_final} x {h_final}')\n",
    "\n",
    "        # read new line for new test case\n",
    "        width_th = int(sys.stdin.readline().strip())"
   ]
  },
  {
   "cell_type": "markdown",
   "metadata": {},
   "source": [
    "# Develpment"
   ]
  },
  {
   "cell_type": "code",
   "execution_count": 3,
   "metadata": {},
   "outputs": [
    {
     "name": "stdout",
     "output_type": "stream",
     "text": [
      "30 x 25\n",
      "23 x 18\n",
      "15 x 56\n"
     ]
    }
   ],
   "source": [
    "file_obj = open('sample.in')\n",
    "width_th = int(file_obj.readline().strip())\n",
    "\n",
    "while width_th !=0:\n",
    "    \n",
    "    w_final, h_final = 0, 0\n",
    "    \n",
    "    w, h = (file_obj.readline().strip()).split()\n",
    "    w, h = int(w), int(h)\n",
    "    \n",
    "    while (w>0) and (h>0):\n",
    "                \n",
    "        if (w_final+w) <= width_th:\n",
    "            w_final += w\n",
    "            if h_final < h:\n",
    "                h_final = h \n",
    "        else:\n",
    "            if w_final < w:\n",
    "                w_final = w \n",
    "            h_final += h\n",
    "            \n",
    "        # read next-line\n",
    "        w, h = (file_obj.readline().strip()).split()\n",
    "        w, h = int(w), int(h)\n",
    "\n",
    "            \n",
    "    # End of containers (w=-1, h=-1)\n",
    "    print(f'{w_final} x {h_final}')\n",
    "    \n",
    "    # read new line for new test case\n",
    "    width_th = int(file_obj.readline().strip())"
   ]
  },
  {
   "cell_type": "markdown",
   "metadata": {},
   "source": [
    "# attempt-2!"
   ]
  },
  {
   "cell_type": "code",
   "execution_count": 22,
   "metadata": {},
   "outputs": [
    {
     "name": "stdout",
     "output_type": "stream",
     "text": [
      "30 x 25\n",
      "23 x 18\n",
      "15 x 47\n"
     ]
    }
   ],
   "source": [
    "file_obj = open('sample.in')\n",
    "width_th = int(file_obj.readline().strip())\n",
    "\n",
    "while width_th !=0:\n",
    "    \n",
    "    w_final, h_final = 0, 0\n",
    "    \n",
    "    w, h = (file_obj.readline().strip()).split()\n",
    "    w, h = int(w), int(h)\n",
    "    \n",
    "    w_prev, h_prev = 0, 0\n",
    "    heights = []\n",
    "    while (w>0) and (h>0):\n",
    "        \n",
    "        if(w_prev+w) <= width_th:\n",
    "            w_prev += w\n",
    "            heights.append(h)\n",
    "        else:\n",
    "            # get the height from the previous arrangement\n",
    "            h_prev += max(heights)\n",
    "                            \n",
    "            if(w_final < w_prev):\n",
    "                w_final = w_prev\n",
    "            \n",
    "            # initialize w_prev with current w\n",
    "            w_prev = w\n",
    "            \n",
    "            heights = []\n",
    "            heights.append(h)\n",
    "            \n",
    "        \n",
    "        # read next-line\n",
    "        w, h = (file_obj.readline().strip()).split()\n",
    "        w, h = int(w), int(h)\n",
    "\n",
    "            \n",
    "    # End of containers (w=-1, h=-1)\n",
    "    if(w_final < w_prev):\n",
    "        w_final = w_prev\n",
    "    h_final = h_prev + max(heights)\n",
    "    print(f'{w_final} x {h_final}')\n",
    "    \n",
    "    # read new line for new test case\n",
    "    width_th = int(file_obj.readline().strip())"
   ]
  },
  {
   "cell_type": "markdown",
   "metadata": {},
   "source": [
    "# attempt-3!"
   ]
  },
  {
   "cell_type": "code",
   "execution_count": 18,
   "metadata": {},
   "outputs": [
    {
     "name": "stdout",
     "output_type": "stream",
     "text": [
      "30 x 25\n",
      "23 x 18\n",
      "15 x 46\n"
     ]
    }
   ],
   "source": [
    "file_obj = open('sample.in')\n",
    "width_th = int(file_obj.readline().strip())\n",
    "\n",
    "while width_th !=0:\n",
    "    \n",
    "    w_final, h_final = 0, 0\n",
    "    \n",
    "    w, h = (file_obj.readline().strip()).split()\n",
    "    w, h = int(w), int(h)\n",
    "    \n",
    "    heights = []\n",
    "    while (w>0) and (h>0):\n",
    "                \n",
    "        if (w_final+w) <= width_th:\n",
    "            w_final += w\n",
    "            heights.append(h)\n",
    "        else:\n",
    "            h_final += max(heights)\n",
    "            \n",
    "            if w_final < w:\n",
    "                w_final = w \n",
    "            heights = []\n",
    "            heights.append(h)\n",
    "            #h_final += h\n",
    "            \n",
    "        # read next-line\n",
    "        w, h = (file_obj.readline().strip()).split()\n",
    "        w, h = int(w), int(h)\n",
    "\n",
    "            \n",
    "    # End of containers (w=-1, h=-1)\n",
    "    h_final += max(heights)\n",
    "    print(f'{w_final} x {h_final}')\n",
    "    \n",
    "    # read new line for new test case\n",
    "    width_th = int(file_obj.readline().strip())"
   ]
  },
  {
   "cell_type": "code",
   "execution_count": null,
   "metadata": {},
   "outputs": [],
   "source": []
  }
 ],
 "metadata": {
  "kernelspec": {
   "display_name": "Python 3",
   "language": "python",
   "name": "python3"
  },
  "language_info": {
   "codemirror_mode": {
    "name": "ipython",
    "version": 3
   },
   "file_extension": ".py",
   "mimetype": "text/x-python",
   "name": "python",
   "nbconvert_exporter": "python",
   "pygments_lexer": "ipython3",
   "version": "3.7.4"
  }
 },
 "nbformat": 4,
 "nbformat_minor": 4
}
