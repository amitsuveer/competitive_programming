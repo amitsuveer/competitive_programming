{
 "cells": [
  {
   "cell_type": "markdown",
   "metadata": {},
   "source": [
    "<img src=reduction.png>"
   ]
  },
  {
   "cell_type": "markdown",
   "metadata": {},
   "source": [
    "# Accepted Solution"
   ]
  },
  {
   "cell_type": "code",
   "execution_count": null,
   "metadata": {},
   "outputs": [],
   "source": []
  },
  {
   "cell_type": "markdown",
   "metadata": {},
   "source": [
    "# Development"
   ]
  },
  {
   "cell_type": "code",
   "execution_count": null,
   "metadata": {},
   "outputs": [],
   "source": []
  },
  {
   "cell_type": "code",
   "execution_count": 47,
   "metadata": {},
   "outputs": [
    {
     "name": "stdout",
     "output_type": "stream",
     "text": [
      "cases = 2\n",
      "{'Case 1': {'N': 100, 'M': 5, 'Agencies': 3}, 'Case 2': {'N': 1123, 'M': 1122, 'Agencies': 5}}\n",
      "{'Case 1': [{'Name': 'A', 'A': 1, 'B': 10}, {'Name': 'B', 'A': 2, 'B': 5}, {'Name': 'C', 'A': 3, 'B': 1}], 'Case 2': [{'Name': 'B', 'A': 50, 'B': 300}, {'Name': 'A', 'A': 1, 'B': 1000}, {'Name': 'C', 'A': 10, 'B': 10}, {'Name': 'D', 'A': 1, 'B': 50}, {'Name': 'E', 'A': 0, 'B': 0}]}\n"
     ]
    }
   ],
   "source": [
    "#import sys\n",
    "import re\n",
    "\n",
    "file_obj = open('1.in')\n",
    "lines = file_obj.readlines()\n",
    "\n",
    "cases = int(lines[0])\n",
    "print('cases =', cases)\n",
    "\n",
    "dict_work = {}\n",
    "dict_agency = {}\n",
    "\n",
    "agency_cnt = 0\n",
    "case_cnt = 0\n",
    "\n",
    "for c in range(cases):\n",
    "    case_cnt += 1    \n",
    "    case_name = f'Case {case_cnt}' \n",
    "    \n",
    "    line_idx = case_cnt + agency_cnt\n",
    "    N, M, num_agency = (lines[line_idx]).split()\n",
    "    \n",
    "    agency_cnt += int(num_agency)\n",
    "    work_details = {'N':int(N), 'M':int(M), 'Agencies':int(num_agency)}\n",
    "    \n",
    "    # get the agency details\n",
    "    LOD = []\n",
    "    for a in range(int(num_agency)):\n",
    "        ag_id = (a+1) + line_idx\n",
    "        ag_name, A, B = re.split(r'\\W+', str(lines[ag_id]).split()[0])\n",
    "        agency_details = {'Name': ag_name, 'A':int(A), 'B':int(B)}\n",
    "        LOD.append(agency_details)\n",
    "    \n",
    "    # finn-in the details  \n",
    "    dict_work[case_name] = work_details\n",
    "    dict_agency[case_name] = LOD\n",
    "    \n",
    "print(dict_work)\n",
    "print(dict_agency)"
   ]
  },
  {
   "cell_type": "code",
   "execution_count": 42,
   "metadata": {},
   "outputs": [
    {
     "name": "stdout",
     "output_type": "stream",
     "text": [
      "A 1 10\n"
     ]
    }
   ],
   "source": [
    "nn, A, B = re.split(r'\\W+', str(lines[2]).split()[0])\n",
    "print(nn, A, B)"
   ]
  },
  {
   "cell_type": "code",
   "execution_count": 30,
   "metadata": {},
   "outputs": [
    {
     "ename": "TypeError",
     "evalue": "findall() missing 1 required positional argument: 'string'",
     "output_type": "error",
     "traceback": [
      "\u001b[0;31m---------------------------------------------------------------------------\u001b[0m",
      "\u001b[0;31mTypeError\u001b[0m                                 Traceback (most recent call last)",
      "\u001b[0;32m<ipython-input-30-86c7e5714c5a>\u001b[0m in \u001b[0;36m<module>\u001b[0;34m\u001b[0m\n\u001b[1;32m      1\u001b[0m \u001b[0mAA\u001b[0m \u001b[0;34m=\u001b[0m \u001b[0mlines\u001b[0m\u001b[0;34m[\u001b[0m\u001b[0;36m2\u001b[0m\u001b[0;34m]\u001b[0m\u001b[0;34m\u001b[0m\u001b[0;34m\u001b[0m\u001b[0m\n\u001b[0;32m----> 2\u001b[0;31m \u001b[0mre\u001b[0m\u001b[0;34m.\u001b[0m\u001b[0mfindall\u001b[0m\u001b[0;34m(\u001b[0m\u001b[0mAA\u001b[0m\u001b[0;34m)\u001b[0m\u001b[0;34m\u001b[0m\u001b[0;34m\u001b[0m\u001b[0m\n\u001b[0m",
      "\u001b[0;31mTypeError\u001b[0m: findall() missing 1 required positional argument: 'string'"
     ]
    }
   ],
   "source": [
    "AA = lines[2]\n",
    "re.findall(AA)"
   ]
  },
  {
   "cell_type": "code",
   "execution_count": 33,
   "metadata": {},
   "outputs": [
    {
     "data": {
      "text/plain": [
       "7"
      ]
     },
     "execution_count": 33,
     "metadata": {},
     "output_type": "execute_result"
    }
   ],
   "source": [
    "len(AA)"
   ]
  },
  {
   "cell_type": "code",
   "execution_count": 34,
   "metadata": {},
   "outputs": [
    {
     "data": {
      "text/plain": [
       "'A:1,10\\n'"
      ]
     },
     "execution_count": 34,
     "metadata": {},
     "output_type": "execute_result"
    }
   ],
   "source": [
    "AA"
   ]
  },
  {
   "cell_type": "code",
   "execution_count": 39,
   "metadata": {},
   "outputs": [],
   "source": [
    "BB = str(lines[2]).split()[0]"
   ]
  },
  {
   "cell_type": "code",
   "execution_count": 40,
   "metadata": {},
   "outputs": [
    {
     "ename": "TypeError",
     "evalue": "findall() missing 1 required positional argument: 'string'",
     "output_type": "error",
     "traceback": [
      "\u001b[0;31m---------------------------------------------------------------------------\u001b[0m",
      "\u001b[0;31mTypeError\u001b[0m                                 Traceback (most recent call last)",
      "\u001b[0;32m<ipython-input-40-b95f12c661be>\u001b[0m in \u001b[0;36m<module>\u001b[0;34m\u001b[0m\n\u001b[0;32m----> 1\u001b[0;31m \u001b[0mre\u001b[0m\u001b[0;34m.\u001b[0m\u001b[0mfindall\u001b[0m\u001b[0;34m(\u001b[0m\u001b[0mBB\u001b[0m\u001b[0;34m)\u001b[0m\u001b[0;34m\u001b[0m\u001b[0;34m\u001b[0m\u001b[0m\n\u001b[0m",
      "\u001b[0;31mTypeError\u001b[0m: findall() missing 1 required positional argument: 'string'"
     ]
    }
   ],
   "source": [
    "re.findall(BB)"
   ]
  },
  {
   "cell_type": "code",
   "execution_count": null,
   "metadata": {},
   "outputs": [],
   "source": []
  }
 ],
 "metadata": {
  "kernelspec": {
   "display_name": "Python 3",
   "language": "python",
   "name": "python3"
  },
  "language_info": {
   "codemirror_mode": {
    "name": "ipython",
    "version": 3
   },
   "file_extension": ".py",
   "mimetype": "text/x-python",
   "name": "python",
   "nbconvert_exporter": "python",
   "pygments_lexer": "ipython3",
   "version": "3.7.4"
  }
 },
 "nbformat": 4,
 "nbformat_minor": 4
}
