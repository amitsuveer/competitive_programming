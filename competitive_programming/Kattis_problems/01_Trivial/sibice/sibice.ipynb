{
 "cells": [
  {
   "cell_type": "markdown",
   "metadata": {},
   "source": [
    "<img src=sibice.png>"
   ]
  },
  {
   "cell_type": "markdown",
   "metadata": {},
   "source": [
    "# submitted code"
   ]
  },
  {
   "cell_type": "code",
   "execution_count": null,
   "metadata": {},
   "outputs": [],
   "source": [
    "import sys\n",
    "\n",
    "if __name__ == '__main__':\n",
    "\n",
    "    line = sys.stdin.readline().strip()\n",
    "\n",
    "    matches, width, height = line.split()\n",
    "    matches, width, height = int(matches), int(width), int(height)\n",
    "    diagonal = int((width**2 + height**2)**(1./2))\n",
    "\n",
    "    for i in range(matches):\n",
    "        length = int(sys.stdin.readline().strip())\n",
    "        if length <= diagonal:\n",
    "            print('DA')\n",
    "        else:\n",
    "            print('NE')    "
   ]
  },
  {
   "cell_type": "code",
   "execution_count": null,
   "metadata": {},
   "outputs": [],
   "source": []
  },
  {
   "cell_type": "markdown",
   "metadata": {},
   "source": [
    "# Development"
   ]
  },
  {
   "cell_type": "code",
   "execution_count": 11,
   "metadata": {},
   "outputs": [
    {
     "name": "stdout",
     "output_type": "stream",
     "text": [
      "NE\n",
      "DA\n"
     ]
    }
   ],
   "source": [
    "\n",
    "file_obj = open('2.in')\n",
    "line = file_obj.readline().strip()\n",
    "\n",
    "matches, width, height = line.split()\n",
    "matches, width, height = int(matches), int(width), int(height)\n",
    "diagonal = int((width**2 + height**2)**(1./2))\n",
    "\n",
    "for i in range(matches):\n",
    "    length = int(file_obj.readline().strip())\n",
    "    if length <= diagonal:\n",
    "        print('DA')\n",
    "    else:\n",
    "        print('NE')"
   ]
  },
  {
   "cell_type": "code",
   "execution_count": null,
   "metadata": {},
   "outputs": [],
   "source": []
  }
 ],
 "metadata": {
  "kernelspec": {
   "display_name": "Python 3",
   "language": "python",
   "name": "python3"
  },
  "language_info": {
   "codemirror_mode": {
    "name": "ipython",
    "version": 3
   },
   "file_extension": ".py",
   "mimetype": "text/x-python",
   "name": "python",
   "nbconvert_exporter": "python",
   "pygments_lexer": "ipython3",
   "version": "3.7.4"
  }
 },
 "nbformat": 4,
 "nbformat_minor": 4
}
