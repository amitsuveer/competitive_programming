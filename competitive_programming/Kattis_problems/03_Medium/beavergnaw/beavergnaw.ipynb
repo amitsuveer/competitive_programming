{
 "cells": [
  {
   "cell_type": "markdown",
   "metadata": {},
   "source": [
    "<img src=beavergnaw.png>"
   ]
  },
  {
   "cell_type": "markdown",
   "metadata": {},
   "source": [
    "# Submitted solution\n",
    "    CPU time: 0.05s"
   ]
  },
  {
   "cell_type": "code",
   "execution_count": 18,
   "metadata": {},
   "outputs": [],
   "source": [
    "import sys\n",
    "import math \n",
    "\n",
    "def calculate_small_diameter(D:int, Vc:int):\n",
    "    if D==0 or Vc==0:\n",
    "        return\n",
    "    else:\n",
    "        PI = math.pi\n",
    "        Vo = (PI) * ((D/2)**2) * (D)\n",
    "        Vi = Vo - Vc - (Vc/2) # need to work on why!\n",
    "        d = 2 *((Vi/(2*PI))**(1./3))    \n",
    "        print(d)\n",
    "    \n",
    "if __name__ == '__main__':\n",
    "    lines = (sys.stdin.read()).split()\n",
    "    for i in range(0, len(lines), 2):\n",
    "        calculate_small_diameter(D=int(lines[i]), Vc=int(lines[i+1]))"
   ]
  },
  {
   "cell_type": "markdown",
   "metadata": {},
   "source": [
    "# Development"
   ]
  },
  {
   "cell_type": "code",
   "execution_count": 19,
   "metadata": {},
   "outputs": [
    {
     "name": "stdout",
     "output_type": "stream",
     "text": [
      "8.054498575956393\n",
      "14.774938880465962\n",
      "13.11531487879516\n",
      "30.90118872301652\n"
     ]
    }
   ],
   "source": [
    "import math\n",
    "\n",
    "file_obj = open('C.in')\n",
    "lines = (file_obj.read()).split()\n",
    "for i in range(0, len(lines), 2):\n",
    "    calculate_small_diameter(D=int(lines[i]), Vc=int(lines[i+1]))\n",
    "\n",
    "'''\n",
    "file_obj = open('C.in')\n",
    "lines = (file_obj.read()).split()\n",
    "for i in range(0, len(lines), 2):\n",
    "    print(lines[i], lines[i+1])\n",
    "'''"
   ]
  },
  {
   "cell_type": "markdown",
   "metadata": {},
   "source": [
    "# Debugging!!!"
   ]
  },
  {
   "cell_type": "code",
   "execution_count": 6,
   "metadata": {},
   "outputs": [
    {
     "name": "stdout",
     "output_type": "stream",
     "text": [
      "8.800938750646988\n"
     ]
    }
   ],
   "source": [
    "import math\n",
    "\n",
    "rhs =  (1/math.pi)*(1000*(math.pi-1))\n",
    "d = rhs**(1./3)\n",
    "print(d)"
   ]
  },
  {
   "cell_type": "code",
   "execution_count": 46,
   "metadata": {},
   "outputs": [
    {
     "name": "stdout",
     "output_type": "stream",
     "text": [
      "6283.185307179587\n"
     ]
    }
   ],
   "source": [
    "D = 20\n",
    "PI = math.pi\n",
    "Vo = (PI) * ((D/2)**2) * (D)\n",
    "print(Vo)"
   ]
  },
  {
   "cell_type": "code",
   "execution_count": 47,
   "metadata": {},
   "outputs": [
    {
     "name": "stdout",
     "output_type": "stream",
     "text": [
      "2533.1853071795867\n",
      "14.774938880465962\n"
     ]
    }
   ],
   "source": [
    "Vc = 2500\n",
    "Vi = Vo - Vc - (Vc/2) # <------------------------------------------------------ WHY???\n",
    "print(Vi)\n",
    "\n",
    "r = 2 *((Vi/(2*PI))**(1./3))\n",
    "print(r)"
   ]
  },
  {
   "cell_type": "code",
   "execution_count": null,
   "metadata": {},
   "outputs": [],
   "source": []
  },
  {
   "cell_type": "code",
   "execution_count": 42,
   "metadata": {},
   "outputs": [
    {
     "data": {
      "text/plain": [
       "2533.1853069399167"
      ]
     },
     "execution_count": 42,
     "metadata": {},
     "output_type": "execute_result"
    }
   ],
   "source": [
    "#d = 8.054498576\n",
    "d = 14.774938880\n",
    "Vii = (PI)*(d)*(d/2)**2\n",
    "Vii"
   ]
  },
  {
   "cell_type": "code",
   "execution_count": 52,
   "metadata": {},
   "outputs": [],
   "source": [
    "Voo = Vii+(Vc*(3/2))"
   ]
  },
  {
   "cell_type": "code",
   "execution_count": 53,
   "metadata": {},
   "outputs": [
    {
     "data": {
      "text/plain": [
       "0"
      ]
     },
     "execution_count": 53,
     "metadata": {},
     "output_type": "execute_result"
    }
   ],
   "source": [
    "round(Vo - Voo)"
   ]
  },
  {
   "cell_type": "code",
   "execution_count": 54,
   "metadata": {},
   "outputs": [
    {
     "data": {
      "text/plain": [
       "0"
      ]
     },
     "execution_count": 54,
     "metadata": {},
     "output_type": "execute_result"
    }
   ],
   "source": [
    "round(Vii-Vi)"
   ]
  },
  {
   "cell_type": "code",
   "execution_count": null,
   "metadata": {},
   "outputs": [],
   "source": []
  }
 ],
 "metadata": {
  "kernelspec": {
   "display_name": "Python 3",
   "language": "python",
   "name": "python3"
  },
  "language_info": {
   "codemirror_mode": {
    "name": "ipython",
    "version": 3
   },
   "file_extension": ".py",
   "mimetype": "text/x-python",
   "name": "python",
   "nbconvert_exporter": "python",
   "pygments_lexer": "ipython3",
   "version": "3.7.4"
  }
 },
 "nbformat": 4,
 "nbformat_minor": 4
}
